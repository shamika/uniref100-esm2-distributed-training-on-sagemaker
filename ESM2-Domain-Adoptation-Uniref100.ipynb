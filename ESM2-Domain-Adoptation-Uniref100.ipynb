{
 "cells": [
  {
   "cell_type": "markdown",
   "id": "eb0b8ea4-195e-4481-9bf4-9d5a039f7ea4",
   "metadata": {},
   "source": [
    "# ESM-2 Domain Adaptation with Uniref100 dataset"
   ]
  },
  {
   "cell_type": "markdown",
   "id": "24d1e05a-d104-4eee-aa5a-5f9b8e84f9fd",
   "metadata": {},
   "source": [
    "In this notebook, we demonstrate how to perform full-parameter fine tuning of the ESM-2 protein language model on uniref100 dataset."
   ]
  },
  {
   "cell_type": "markdown",
   "id": "40914900-f51c-46ef-8f0c-77acacaf2af1",
   "metadata": {},
   "source": [
    "---\n",
    "## 0. Install dependencies"
   ]
  },
  {
   "cell_type": "code",
   "execution_count": null,
   "id": "0972f4bd-a6f4-4fdd-81fd-4ef47d1790d0",
   "metadata": {
    "tags": []
   },
   "outputs": [],
   "source": [
    "%pip install -q --upgrade pip\n",
    "%pip install -q --upgrade sagemaker boto3 awscli boto3 ipywidgets\n",
    "\n"
   ]
  },
  {
   "cell_type": "code",
   "execution_count": null,
   "id": "dde44515-49fc-47c4-951e-b5193b8bb72a",
   "metadata": {
    "tags": []
   },
   "outputs": [],
   "source": [
    "import boto3\n",
    "import os\n",
    "import sagemaker\n",
    "from sagemaker.experiments.run import Run\n",
    "from sagemaker.inputs import TrainingInput\n",
    "from sagemaker.pytorch import PyTorch\n",
    "from time import strftime\n",
    "\n",
    "\n",
    "boto_session = boto3.session.Session()\n",
    "sagemaker_session = sagemaker.session.Session(boto_session)\n",
    "S3_BUCKET = sagemaker_session.default_bucket()\n",
    "s3 = boto_session.client(\"s3\")\n",
    "sagemaker_client = boto_session.client(\"sagemaker\")\n",
    "sagemaker_execution_role = sagemaker.session.get_execution_role(sagemaker_session)\n",
    "REGION_NAME = sagemaker_session.boto_region_name\n",
    "print(f\"Assumed SageMaker role is {sagemaker_execution_role}\")\n",
    "\n",
    "S3_PREFIX = \"esm-2-uniref100-benchmarking\"\n",
    "S3_PATH = sagemaker.s3.s3_path_join(\"s3://\", S3_BUCKET, S3_PREFIX)\n",
    "print(f\"S3 path is {S3_PATH}\")\n",
    "\n",
    "EXPERIMENT_NAME = f\"esm-2-benchmarking-ref100-650M\" + strftime(\"%Y-%m-%d-%H-%M-%S\")\n",
    "print(f\"Experiment name is {EXPERIMENT_NAME}\")"
   ]
  },
  {
   "cell_type": "code",
   "execution_count": null,
   "id": "41652d2e-bdae-4f10-b0ba-02cc8882083d",
   "metadata": {
    "tags": []
   },
   "outputs": [],
   "source": [
    "# MODEL_ID=\"facebook/esm2_t48_15B_UR50D\"\n",
    "# MODEL_ID=\"facebook/esm2_t36_3B_UR50D\"\n",
    "MODEL_ID=\"facebook/esm2_t33_650M_UR50D\"\n",
    "# MODEL_ID=\"facebook/esm2_t30_150M_UR50D\"\n",
    "# MODEL_ID=\"facebook/esm2_t12_35M_UR50D\"\n",
    "# MODEL_ID = \"facebook/esm2_t6_8M_UR50D\""
   ]
  },
  {
   "cell_type": "markdown",
   "id": "3027983a-e6ef-4a83-ac3f-354f7a2aa248",
   "metadata": {},
   "source": [
    "---\n",
    "## 1. Pre-tokenize the data "
   ]
  },
  {
   "cell_type": "markdown",
   "id": "6cf35a80-26bf-423d-bd96-cff0d73d0b11",
   "metadata": {},
   "source": [
    "Tokenized using glue script. "
   ]
  },
  {
   "cell_type": "code",
   "execution_count": null,
   "id": "b49980d3-eeb7-4cda-9c61-2b669f73bbe9",
   "metadata": {},
   "outputs": [],
   "source": [
    "train_s3_uri_uniref100 = \"s3://<bucket>/uniref100/torkenized-1mb-650m-v1/train\"\n",
    "test_s3_uri_uniref100 = \"s3://<bucket>/uniref100/torkenized-1mb-650m-v1/test\"\n"
   ]
  },
  {
   "cell_type": "markdown",
   "id": "acc1eece-1705-43d0-aebb-8b0b4bb57b61",
   "metadata": {},
   "source": [
    "## 2. Create data map needed for training"
   ]
  },
  {
   "cell_type": "markdown",
   "id": "aed5c85f-c93d-4a46-86a7-cf99596ea58e",
   "metadata": {
    "tags": []
   },
   "source": [
    "Create index map of tokenized data using glue script. "
   ]
  },
  {
   "cell_type": "markdown",
   "id": "b3f35366-a24c-401b-abc0-5aede2c5a3c9",
   "metadata": {
    "tags": []
   },
   "source": [
    "## 2.1 (Optional) Get sample data for a sample run. "
   ]
  },
  {
   "cell_type": "code",
   "execution_count": null,
   "id": "59880a1c-b4a2-4fa6-b3b9-dcdd4943a5bf",
   "metadata": {
    "tags": []
   },
   "outputs": [],
   "source": [
    "train_index_file = !(aws s3 ls {train_s3_uri_uniref100}/train_index_map/) \n",
    "train_index_file = train_index_file[0].split()[-1]\n",
    "train_index_file_full_path = train_s3_uri_uniref100 + \"/train_index_map/\" + train_index_file\n",
    "\n",
    "test_index_file = !(aws s3 ls {test_s3_uri_uniref100}/test_index_map/) \n",
    "test_index_file = test_index_file[0].split()[-1]\n",
    "test_index_file_full_path = test_s3_uri_uniref100 + \"/test_index_map/\"+ test_index_file\n",
    "test_index_file_full_path"
   ]
  },
  {
   "cell_type": "code",
   "execution_count": null,
   "id": "4f98d84f-f4be-424a-8830-4e793b86871c",
   "metadata": {
    "tags": []
   },
   "outputs": [],
   "source": [
    "!mkdir ./tmp\n",
    "!aws s3 cp {train_index_file_full_path} ./tmp/\n",
    "!aws s3 cp {test_index_file_full_path} ./tmp/"
   ]
  },
  {
   "cell_type": "code",
   "execution_count": null,
   "id": "689bec03-e0a6-4144-9a24-86cd7e8322f9",
   "metadata": {
    "tags": []
   },
   "outputs": [],
   "source": [
    "import pandas as pd\n",
    "train_index_map = pd.read_csv(f\"./tmp/{train_index_file}\")\n",
    "train_index_map"
   ]
  },
  {
   "cell_type": "code",
   "execution_count": null,
   "id": "9ecde02c-51b7-4dc2-b76e-89f627a72d01",
   "metadata": {},
   "outputs": [],
   "source": [
    "train_index_map.iloc[0:3].to_csv(\"./tmp/sample_train_100.csv\")"
   ]
  },
  {
   "cell_type": "code",
   "execution_count": null,
   "id": "7e58e634-690a-487d-8342-1c21fa8fe4ff",
   "metadata": {
    "tags": []
   },
   "outputs": [],
   "source": [
    "test_index_map = pd.read_csv(f\"./tmp/{test_index_file}\")\n",
    "test_index_map"
   ]
  },
  {
   "cell_type": "code",
   "execution_count": null,
   "id": "6e591a33-a89d-4837-a84d-bdec9027a6fc",
   "metadata": {
    "tags": []
   },
   "outputs": [],
   "source": [
    "test_index_map.iloc[0:1].to_csv(\"./tmp/sample_test_100.csv\")"
   ]
  },
  {
   "cell_type": "code",
   "execution_count": null,
   "id": "41f4407d-2221-4f47-926b-b9bf7854dbe3",
   "metadata": {
    "tags": []
   },
   "outputs": [],
   "source": [
    "{train_s3_uri_uniref100}/sample_train_index_map/"
   ]
  },
  {
   "cell_type": "code",
   "execution_count": null,
   "id": "7adccc94-75b6-4e8b-9787-94dde78dc1e0",
   "metadata": {
    "tags": []
   },
   "outputs": [],
   "source": [
    "!aws s3 cp ./tmp/sample_train_100.csv {train_s3_uri_uniref100}/sample_train_index_map/\n",
    "!aws s3 cp ./tmp/sample_test_100.csv {test_s3_uri_uniref100}/sample_test_index_map/\n"
   ]
  },
  {
   "cell_type": "markdown",
   "id": "29c45c05-3f53-4ebb-b510-72b0f7e60e89",
   "metadata": {},
   "source": [
    "## 3. Train on multiple g5.2xlarge"
   ]
  },
  {
   "cell_type": "code",
   "execution_count": null,
   "id": "c9e298a5-d9f1-4d7e-aaea-b4eeed5de33b",
   "metadata": {
    "tags": []
   },
   "outputs": [],
   "source": [
    "metric_definitions = [\n",
    "    {\"Name\": \"epoch\", \"Regex\": \"Epoch: ([0-9.]*)\"},\n",
    "    {\"Name\": \"step\", \"Regex\": \"Step: ([0-9.]*)\"},\n",
    "    {\"Name\": \"train_loss\", \"Regex\": \"Training Loss: ([0-9.e-]*)\"},\n",
    "    {\"Name\": \"train_perplexity\", \"Regex\": \"Training Perplexity: ([0-9.e-]*)\"},\n",
    "    {\n",
    "        \"Name\": \"train_samples_per_second\",\n",
    "        \"Regex\": \"Training Samples/sec: ([0-9.e-]*)\",\n",
    "    },\n",
    "    {\n",
    "        \"Name\": \"train_tokens_per_second\",\n",
    "        \"Regex\": \"Training Tokens/sec: ([0-9.e-]*)\",\n",
    "    },\n",
    "    {\"Name\": \"eval_loss\", \"Regex\": \"Eval Loss: ([0-9.e-]*)\"},\n",
    "    {\"Name\": \"eval_perplexity\", \"Regex\": \"Eval Perplexity: ([0-9.e-]*)\"},\n",
    "    {\n",
    "        \"Name\": \"eval_samples_per_second\",\n",
    "        \"Regex\": \"Eval Samples/sec: ([0-9.e-]*)\",\n",
    "    },\n",
    "    {\"Name\": \"eval_tokens_per_second\", \"Regex\": \"Eval Tokens/sec: ([0-9.e-]*)\"},\n",
    "]"
   ]
  },
  {
   "cell_type": "code",
   "execution_count": null,
   "id": "bd51bd1f-15b5-4536-bdcb-d735daa1230f",
   "metadata": {},
   "outputs": [],
   "source": [
    "# Additional training parameters\n",
    "hyperparameters = {\n",
    "    \"num_epochs\": 2,\n",
    "    \"model_id\": MODEL_ID,\n",
    "    \"per_device_train_batch_size\": 10,\n",
    "    \"per_device_eval_batch_size\": 10, \n",
    "    \"bf16\": True,\n",
    "    \"logging_steps\": 2,\n",
    "    \"optim\": \"adamw_torch\",\n",
    "    \"pretrain\" : 1,\n",
    "    \"train_sample_count\" : 10000,\n",
    "    \"train_index_file_path\" : \"sample_train_index_map\",\n",
    "    \"test_index_file_path\" : \"sample_test_index_map\",\n",
    "    \"gradient_accumulation_steps\" : 10\n",
    "    \n",
    "}\n",
    "\n",
    "# creates Hugging Face estimator\n",
    "g5_estimator = PyTorch(\n",
    "    base_job_name=\"esm-2-uniref100-p3dn-gacc\",\n",
    "    entry_point=\"cuda-uniref100-pretorkenized-mlm-train-ddp-fsdp.py\",\n",
    "    source_dir=\"training/cuda/uniref100\",\n",
    "    instance_type=\"ml.p3dn.24xlarge\",\n",
    "    instance_count=1,\n",
    "    image_uri=f\"763104351884.dkr.ecr.us-east-1.amazonaws.com/pytorch-training:2.0.1-gpu-py310-cu118-ubuntu20.04-sagemaker\",\n",
    "    output_path=f\"{S3_PATH}/output\",\n",
    "    role=sagemaker_execution_role,\n",
    "    hyperparameters=hyperparameters,\n",
    "    metric_definitions=metric_definitions,\n",
    "    sagemaker_session=sagemaker_session,\n",
    "    distribution={\"torch_distributed\": {\"enabled\": True}},\n",
    "    tags=[{\"Key\": \"project\", \"Value\": \"esm-benchmarking\"}],\n",
    "    keep_alive_period_in_seconds=1800\n",
    ")\n",
    "\n",
    "with Run(\n",
    "    experiment_name=EXPERIMENT_NAME,\n",
    "    sagemaker_session=sagemaker_session,\n",
    ") as run:\n",
    "    g5_estimator.fit(\n",
    "        {\n",
    "            \"train\": TrainingInput(s3_data=train_s3_uri_uniref100, input_mode=\"FastFile\"),\n",
    "            \"test\": TrainingInput(s3_data=test_s3_uri_uniref100, input_mode=\"FastFile\"),\n",
    "        },\n",
    "        wait=False,\n",
    "    )"
   ]
  },
  {
   "cell_type": "code",
   "execution_count": null,
   "id": "b54eb841-3f4d-47cc-b6f4-1a54561a2cef",
   "metadata": {
    "tags": []
   },
   "outputs": [],
   "source": [
    "# # Additional training parameters\n",
    "# hyperparameters = {\n",
    "#     \"num_train_epochs\": 2,\n",
    "#     \"model_id\": MODEL_ID,\n",
    "#     \"per_device_train_batch_size\": 10,\n",
    "#     \"per_device_eval_batch_size\": 10,\n",
    "#     \"bf16\": True,\n",
    "#     \"logging_steps\": 8,\n",
    "#     \"optim\": \"adamw_torch\",\n",
    "#     \"pretrain\" : 1,\n",
    "#     \"train_sample_count\" : 10000,\n",
    "#     \"train_index_file_path\" : \"sample_train_index_map\",\n",
    "#     \"test_index_file_path\" : \"sample_test_index_map\"\n",
    "# }\n",
    "\n",
    "# from sagemaker import ProfilerConfig, Profiler\n",
    "# profiler_config = ProfilerConfig(\n",
    "#     profile_params = Profiler(cpu_profiling_duration=3600)\n",
    "# )\n",
    "\n",
    "# # creates Hugging Face estimator\n",
    "# g5_estimator = PyTorch(\n",
    "#     base_job_name=\"esm-2-uniref100-2p3dn24\",\n",
    "#     entry_point=\"cuda-uniref100-pretorkenized-mlm-train-ddp-fsdp-ptprof.py\",\n",
    "#     source_dir=\"training/cuda/uniref100\",\n",
    "#     instance_type=\"ml.p3dn.24xlarge\",\n",
    "#     instance_count=1,\n",
    "#     image_uri=f\"763104351884.dkr.ecr.us-east-1.amazonaws.com/pytorch-training:2.0.1-gpu-py310-cu118-ubuntu20.04-sagemaker\",\n",
    "#     output_path=f\"{S3_PATH}/output\",\n",
    "#     role=sagemaker_execution_role,\n",
    "#     hyperparameters=hyperparameters,\n",
    "#     metric_definitions=metric_definitions,\n",
    "#     sagemaker_session=sagemaker_session,\n",
    "#     distribution={\"torch_distributed\": {\"enabled\": True}},\n",
    "#     tags=[{\"Key\": \"project\", \"Value\": \"esm-benchmarking\"}],\n",
    "#     profiler_config=profiler_config\n",
    "# )\n",
    "\n",
    "# with Run(\n",
    "#     experiment_name=EXPERIMENT_NAME,\n",
    "#     sagemaker_session=sagemaker_session,\n",
    "# ) as run:\n",
    "#     g5_estimator.fit(\n",
    "#         {\n",
    "#             \"train\": TrainingInput(s3_data=train_s3_uri_uniref100, input_mode=\"FastFile\"),\n",
    "#             \"test\": TrainingInput(s3_data=test_s3_uri_uniref100, input_mode=\"FastFile\"),\n",
    "#         },\n",
    "#         wait=False,\n",
    "#     )"
   ]
  },
  {
   "cell_type": "code",
   "execution_count": null,
   "id": "d7be089d-b36e-4b49-b15c-a4ed2e6747af",
   "metadata": {},
   "outputs": [],
   "source": []
  }
 ],
 "metadata": {
  "availableInstances": [
   {
    "_defaultOrder": 0,
    "_isFastLaunch": true,
    "category": "General purpose",
    "gpuNum": 0,
    "hideHardwareSpecs": false,
    "memoryGiB": 4,
    "name": "ml.t3.medium",
    "vcpuNum": 2
   },
   {
    "_defaultOrder": 1,
    "_isFastLaunch": false,
    "category": "General purpose",
    "gpuNum": 0,
    "hideHardwareSpecs": false,
    "memoryGiB": 8,
    "name": "ml.t3.large",
    "vcpuNum": 2
   },
   {
    "_defaultOrder": 2,
    "_isFastLaunch": false,
    "category": "General purpose",
    "gpuNum": 0,
    "hideHardwareSpecs": false,
    "memoryGiB": 16,
    "name": "ml.t3.xlarge",
    "vcpuNum": 4
   },
   {
    "_defaultOrder": 3,
    "_isFastLaunch": false,
    "category": "General purpose",
    "gpuNum": 0,
    "hideHardwareSpecs": false,
    "memoryGiB": 32,
    "name": "ml.t3.2xlarge",
    "vcpuNum": 8
   },
   {
    "_defaultOrder": 4,
    "_isFastLaunch": true,
    "category": "General purpose",
    "gpuNum": 0,
    "hideHardwareSpecs": false,
    "memoryGiB": 8,
    "name": "ml.m5.large",
    "vcpuNum": 2
   },
   {
    "_defaultOrder": 5,
    "_isFastLaunch": false,
    "category": "General purpose",
    "gpuNum": 0,
    "hideHardwareSpecs": false,
    "memoryGiB": 16,
    "name": "ml.m5.xlarge",
    "vcpuNum": 4
   },
   {
    "_defaultOrder": 6,
    "_isFastLaunch": false,
    "category": "General purpose",
    "gpuNum": 0,
    "hideHardwareSpecs": false,
    "memoryGiB": 32,
    "name": "ml.m5.2xlarge",
    "vcpuNum": 8
   },
   {
    "_defaultOrder": 7,
    "_isFastLaunch": false,
    "category": "General purpose",
    "gpuNum": 0,
    "hideHardwareSpecs": false,
    "memoryGiB": 64,
    "name": "ml.m5.4xlarge",
    "vcpuNum": 16
   },
   {
    "_defaultOrder": 8,
    "_isFastLaunch": false,
    "category": "General purpose",
    "gpuNum": 0,
    "hideHardwareSpecs": false,
    "memoryGiB": 128,
    "name": "ml.m5.8xlarge",
    "vcpuNum": 32
   },
   {
    "_defaultOrder": 9,
    "_isFastLaunch": false,
    "category": "General purpose",
    "gpuNum": 0,
    "hideHardwareSpecs": false,
    "memoryGiB": 192,
    "name": "ml.m5.12xlarge",
    "vcpuNum": 48
   },
   {
    "_defaultOrder": 10,
    "_isFastLaunch": false,
    "category": "General purpose",
    "gpuNum": 0,
    "hideHardwareSpecs": false,
    "memoryGiB": 256,
    "name": "ml.m5.16xlarge",
    "vcpuNum": 64
   },
   {
    "_defaultOrder": 11,
    "_isFastLaunch": false,
    "category": "General purpose",
    "gpuNum": 0,
    "hideHardwareSpecs": false,
    "memoryGiB": 384,
    "name": "ml.m5.24xlarge",
    "vcpuNum": 96
   },
   {
    "_defaultOrder": 12,
    "_isFastLaunch": false,
    "category": "General purpose",
    "gpuNum": 0,
    "hideHardwareSpecs": false,
    "memoryGiB": 8,
    "name": "ml.m5d.large",
    "vcpuNum": 2
   },
   {
    "_defaultOrder": 13,
    "_isFastLaunch": false,
    "category": "General purpose",
    "gpuNum": 0,
    "hideHardwareSpecs": false,
    "memoryGiB": 16,
    "name": "ml.m5d.xlarge",
    "vcpuNum": 4
   },
   {
    "_defaultOrder": 14,
    "_isFastLaunch": false,
    "category": "General purpose",
    "gpuNum": 0,
    "hideHardwareSpecs": false,
    "memoryGiB": 32,
    "name": "ml.m5d.2xlarge",
    "vcpuNum": 8
   },
   {
    "_defaultOrder": 15,
    "_isFastLaunch": false,
    "category": "General purpose",
    "gpuNum": 0,
    "hideHardwareSpecs": false,
    "memoryGiB": 64,
    "name": "ml.m5d.4xlarge",
    "vcpuNum": 16
   },
   {
    "_defaultOrder": 16,
    "_isFastLaunch": false,
    "category": "General purpose",
    "gpuNum": 0,
    "hideHardwareSpecs": false,
    "memoryGiB": 128,
    "name": "ml.m5d.8xlarge",
    "vcpuNum": 32
   },
   {
    "_defaultOrder": 17,
    "_isFastLaunch": false,
    "category": "General purpose",
    "gpuNum": 0,
    "hideHardwareSpecs": false,
    "memoryGiB": 192,
    "name": "ml.m5d.12xlarge",
    "vcpuNum": 48
   },
   {
    "_defaultOrder": 18,
    "_isFastLaunch": false,
    "category": "General purpose",
    "gpuNum": 0,
    "hideHardwareSpecs": false,
    "memoryGiB": 256,
    "name": "ml.m5d.16xlarge",
    "vcpuNum": 64
   },
   {
    "_defaultOrder": 19,
    "_isFastLaunch": false,
    "category": "General purpose",
    "gpuNum": 0,
    "hideHardwareSpecs": false,
    "memoryGiB": 384,
    "name": "ml.m5d.24xlarge",
    "vcpuNum": 96
   },
   {
    "_defaultOrder": 20,
    "_isFastLaunch": false,
    "category": "General purpose",
    "gpuNum": 0,
    "hideHardwareSpecs": true,
    "memoryGiB": 0,
    "name": "ml.geospatial.interactive",
    "supportedImageNames": [
     "sagemaker-geospatial-v1-0"
    ],
    "vcpuNum": 0
   },
   {
    "_defaultOrder": 21,
    "_isFastLaunch": true,
    "category": "Compute optimized",
    "gpuNum": 0,
    "hideHardwareSpecs": false,
    "memoryGiB": 4,
    "name": "ml.c5.large",
    "vcpuNum": 2
   },
   {
    "_defaultOrder": 22,
    "_isFastLaunch": false,
    "category": "Compute optimized",
    "gpuNum": 0,
    "hideHardwareSpecs": false,
    "memoryGiB": 8,
    "name": "ml.c5.xlarge",
    "vcpuNum": 4
   },
   {
    "_defaultOrder": 23,
    "_isFastLaunch": false,
    "category": "Compute optimized",
    "gpuNum": 0,
    "hideHardwareSpecs": false,
    "memoryGiB": 16,
    "name": "ml.c5.2xlarge",
    "vcpuNum": 8
   },
   {
    "_defaultOrder": 24,
    "_isFastLaunch": false,
    "category": "Compute optimized",
    "gpuNum": 0,
    "hideHardwareSpecs": false,
    "memoryGiB": 32,
    "name": "ml.c5.4xlarge",
    "vcpuNum": 16
   },
   {
    "_defaultOrder": 25,
    "_isFastLaunch": false,
    "category": "Compute optimized",
    "gpuNum": 0,
    "hideHardwareSpecs": false,
    "memoryGiB": 72,
    "name": "ml.c5.9xlarge",
    "vcpuNum": 36
   },
   {
    "_defaultOrder": 26,
    "_isFastLaunch": false,
    "category": "Compute optimized",
    "gpuNum": 0,
    "hideHardwareSpecs": false,
    "memoryGiB": 96,
    "name": "ml.c5.12xlarge",
    "vcpuNum": 48
   },
   {
    "_defaultOrder": 27,
    "_isFastLaunch": false,
    "category": "Compute optimized",
    "gpuNum": 0,
    "hideHardwareSpecs": false,
    "memoryGiB": 144,
    "name": "ml.c5.18xlarge",
    "vcpuNum": 72
   },
   {
    "_defaultOrder": 28,
    "_isFastLaunch": false,
    "category": "Compute optimized",
    "gpuNum": 0,
    "hideHardwareSpecs": false,
    "memoryGiB": 192,
    "name": "ml.c5.24xlarge",
    "vcpuNum": 96
   },
   {
    "_defaultOrder": 29,
    "_isFastLaunch": true,
    "category": "Accelerated computing",
    "gpuNum": 1,
    "hideHardwareSpecs": false,
    "memoryGiB": 16,
    "name": "ml.g4dn.xlarge",
    "vcpuNum": 4
   },
   {
    "_defaultOrder": 30,
    "_isFastLaunch": false,
    "category": "Accelerated computing",
    "gpuNum": 1,
    "hideHardwareSpecs": false,
    "memoryGiB": 32,
    "name": "ml.g4dn.2xlarge",
    "vcpuNum": 8
   },
   {
    "_defaultOrder": 31,
    "_isFastLaunch": false,
    "category": "Accelerated computing",
    "gpuNum": 1,
    "hideHardwareSpecs": false,
    "memoryGiB": 64,
    "name": "ml.g4dn.4xlarge",
    "vcpuNum": 16
   },
   {
    "_defaultOrder": 32,
    "_isFastLaunch": false,
    "category": "Accelerated computing",
    "gpuNum": 1,
    "hideHardwareSpecs": false,
    "memoryGiB": 128,
    "name": "ml.g4dn.8xlarge",
    "vcpuNum": 32
   },
   {
    "_defaultOrder": 33,
    "_isFastLaunch": false,
    "category": "Accelerated computing",
    "gpuNum": 4,
    "hideHardwareSpecs": false,
    "memoryGiB": 192,
    "name": "ml.g4dn.12xlarge",
    "vcpuNum": 48
   },
   {
    "_defaultOrder": 34,
    "_isFastLaunch": false,
    "category": "Accelerated computing",
    "gpuNum": 1,
    "hideHardwareSpecs": false,
    "memoryGiB": 256,
    "name": "ml.g4dn.16xlarge",
    "vcpuNum": 64
   },
   {
    "_defaultOrder": 35,
    "_isFastLaunch": false,
    "category": "Accelerated computing",
    "gpuNum": 1,
    "hideHardwareSpecs": false,
    "memoryGiB": 61,
    "name": "ml.p3.2xlarge",
    "vcpuNum": 8
   },
   {
    "_defaultOrder": 36,
    "_isFastLaunch": false,
    "category": "Accelerated computing",
    "gpuNum": 4,
    "hideHardwareSpecs": false,
    "memoryGiB": 244,
    "name": "ml.p3.8xlarge",
    "vcpuNum": 32
   },
   {
    "_defaultOrder": 37,
    "_isFastLaunch": false,
    "category": "Accelerated computing",
    "gpuNum": 8,
    "hideHardwareSpecs": false,
    "memoryGiB": 488,
    "name": "ml.p3.16xlarge",
    "vcpuNum": 64
   },
   {
    "_defaultOrder": 38,
    "_isFastLaunch": false,
    "category": "Accelerated computing",
    "gpuNum": 8,
    "hideHardwareSpecs": false,
    "memoryGiB": 768,
    "name": "ml.p3dn.24xlarge",
    "vcpuNum": 96
   },
   {
    "_defaultOrder": 39,
    "_isFastLaunch": false,
    "category": "Memory Optimized",
    "gpuNum": 0,
    "hideHardwareSpecs": false,
    "memoryGiB": 16,
    "name": "ml.r5.large",
    "vcpuNum": 2
   },
   {
    "_defaultOrder": 40,
    "_isFastLaunch": false,
    "category": "Memory Optimized",
    "gpuNum": 0,
    "hideHardwareSpecs": false,
    "memoryGiB": 32,
    "name": "ml.r5.xlarge",
    "vcpuNum": 4
   },
   {
    "_defaultOrder": 41,
    "_isFastLaunch": false,
    "category": "Memory Optimized",
    "gpuNum": 0,
    "hideHardwareSpecs": false,
    "memoryGiB": 64,
    "name": "ml.r5.2xlarge",
    "vcpuNum": 8
   },
   {
    "_defaultOrder": 42,
    "_isFastLaunch": false,
    "category": "Memory Optimized",
    "gpuNum": 0,
    "hideHardwareSpecs": false,
    "memoryGiB": 128,
    "name": "ml.r5.4xlarge",
    "vcpuNum": 16
   },
   {
    "_defaultOrder": 43,
    "_isFastLaunch": false,
    "category": "Memory Optimized",
    "gpuNum": 0,
    "hideHardwareSpecs": false,
    "memoryGiB": 256,
    "name": "ml.r5.8xlarge",
    "vcpuNum": 32
   },
   {
    "_defaultOrder": 44,
    "_isFastLaunch": false,
    "category": "Memory Optimized",
    "gpuNum": 0,
    "hideHardwareSpecs": false,
    "memoryGiB": 384,
    "name": "ml.r5.12xlarge",
    "vcpuNum": 48
   },
   {
    "_defaultOrder": 45,
    "_isFastLaunch": false,
    "category": "Memory Optimized",
    "gpuNum": 0,
    "hideHardwareSpecs": false,
    "memoryGiB": 512,
    "name": "ml.r5.16xlarge",
    "vcpuNum": 64
   },
   {
    "_defaultOrder": 46,
    "_isFastLaunch": false,
    "category": "Memory Optimized",
    "gpuNum": 0,
    "hideHardwareSpecs": false,
    "memoryGiB": 768,
    "name": "ml.r5.24xlarge",
    "vcpuNum": 96
   },
   {
    "_defaultOrder": 47,
    "_isFastLaunch": false,
    "category": "Accelerated computing",
    "gpuNum": 1,
    "hideHardwareSpecs": false,
    "memoryGiB": 16,
    "name": "ml.g5.xlarge",
    "vcpuNum": 4
   },
   {
    "_defaultOrder": 48,
    "_isFastLaunch": false,
    "category": "Accelerated computing",
    "gpuNum": 1,
    "hideHardwareSpecs": false,
    "memoryGiB": 32,
    "name": "ml.g5.2xlarge",
    "vcpuNum": 8
   },
   {
    "_defaultOrder": 49,
    "_isFastLaunch": false,
    "category": "Accelerated computing",
    "gpuNum": 1,
    "hideHardwareSpecs": false,
    "memoryGiB": 64,
    "name": "ml.g5.4xlarge",
    "vcpuNum": 16
   },
   {
    "_defaultOrder": 50,
    "_isFastLaunch": false,
    "category": "Accelerated computing",
    "gpuNum": 1,
    "hideHardwareSpecs": false,
    "memoryGiB": 128,
    "name": "ml.g5.8xlarge",
    "vcpuNum": 32
   },
   {
    "_defaultOrder": 51,
    "_isFastLaunch": false,
    "category": "Accelerated computing",
    "gpuNum": 1,
    "hideHardwareSpecs": false,
    "memoryGiB": 256,
    "name": "ml.g5.16xlarge",
    "vcpuNum": 64
   },
   {
    "_defaultOrder": 52,
    "_isFastLaunch": false,
    "category": "Accelerated computing",
    "gpuNum": 4,
    "hideHardwareSpecs": false,
    "memoryGiB": 192,
    "name": "ml.g5.12xlarge",
    "vcpuNum": 48
   },
   {
    "_defaultOrder": 53,
    "_isFastLaunch": false,
    "category": "Accelerated computing",
    "gpuNum": 4,
    "hideHardwareSpecs": false,
    "memoryGiB": 384,
    "name": "ml.g5.24xlarge",
    "vcpuNum": 96
   },
   {
    "_defaultOrder": 54,
    "_isFastLaunch": false,
    "category": "Accelerated computing",
    "gpuNum": 8,
    "hideHardwareSpecs": false,
    "memoryGiB": 768,
    "name": "ml.g5.48xlarge",
    "vcpuNum": 192
   },
   {
    "_defaultOrder": 55,
    "_isFastLaunch": false,
    "category": "Accelerated computing",
    "gpuNum": 8,
    "hideHardwareSpecs": false,
    "memoryGiB": 1152,
    "name": "ml.p4d.24xlarge",
    "vcpuNum": 96
   },
   {
    "_defaultOrder": 56,
    "_isFastLaunch": false,
    "category": "Accelerated computing",
    "gpuNum": 8,
    "hideHardwareSpecs": false,
    "memoryGiB": 1152,
    "name": "ml.p4de.24xlarge",
    "vcpuNum": 96
   }
  ],
  "instance_type": "ml.t3.medium",
  "kernelspec": {
   "display_name": "Python 3 (Data Science 3.0)",
   "language": "python",
   "name": "python3__SAGEMAKER_INTERNAL__arn:aws:sagemaker:us-east-1:081325390199:image/sagemaker-data-science-310-v1"
  },
  "language_info": {
   "codemirror_mode": {
    "name": "ipython",
    "version": 3
   },
   "file_extension": ".py",
   "mimetype": "text/x-python",
   "name": "python",
   "nbconvert_exporter": "python",
   "pygments_lexer": "ipython3",
   "version": "3.10.6"
  }
 },
 "nbformat": 4,
 "nbformat_minor": 5
}
